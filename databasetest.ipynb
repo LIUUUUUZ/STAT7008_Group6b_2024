{
 "cells": [
  {
   "cell_type": "code",
   "execution_count": 1,
   "metadata": {},
   "outputs": [
    {
     "name": "stdout",
     "output_type": "stream",
     "text": [
      "You successfully connected to MongoDB!\n"
     ]
    }
   ],
   "source": [
    "from utilities.mongodb import CloudData\n",
    "\n",
    "cd = CloudData()\n",
    "\n"
   ]
  },
  {
   "cell_type": "code",
   "execution_count": 2,
   "metadata": {},
   "outputs": [],
   "source": [
    "api_key = ''\n",
    "init_prompt = ''\n",
    "settings = {\"api_key\": api_key, \"init_prompt\": init_prompt}\n",
    "cd.update_settings(settings)"
   ]
  },
  {
   "cell_type": "code",
   "execution_count": null,
   "metadata": {},
   "outputs": [],
   "source": [
    "print(cd.get_settings())"
   ]
  },
  {
   "cell_type": "code",
   "execution_count": 5,
   "metadata": {},
   "outputs": [
    {
     "name": "stdout",
     "output_type": "stream",
     "text": [
      "{'_id': ObjectId('67388012e3bfa897e218fc50'), 'name': 'admin', 'password': 'admin', 'email': 'admin@test.com'}\n",
      "[{'_id': ObjectId('67388012e3bfa897e218fc50'), 'name': 'admin', 'password': 'admin', 'email': 'admin@test.com'}]\n",
      "{'_id': ObjectId('673889882188d199d57f404c'), 'name': 'test_user1', 'password': 'test_user1', 'email': 'test_email@gmail.com'}\n",
      "[{'_id': ObjectId('67388012e3bfa897e218fc50'), 'name': 'admin', 'password': 'admin', 'email': 'admin@test.com'}, {'_id': ObjectId('673889882188d199d57f404c'), 'name': 'test_user1', 'password': 'test_user1', 'email': 'test_email@gmail.com'}]\n",
      "[{'_id': ObjectId('67388012e3bfa897e218fc50'), 'name': 'admin', 'password': 'admin', 'email': 'admin@test.com'}]\n",
      "None\n"
     ]
    }
   ],
   "source": [
    "user_name = \"admin\"\n",
    "user_pwd = \"admin\"\n",
    "user_email = \"admin@test.com\"\n",
    "\n",
    "user = {\"name\": user_name, \"password\": user_pwd, \"email\": user_email}\n",
    "\n",
    "cd.add_user(user)\n",
    "print(cd.get_user(user_name))\n",
    "print(cd.get_all_users())\n",
    "\n",
    "user_name1 = \"test_user1\"\n",
    "user_pwd1 = \"test_user1\"\n",
    "user_email1 = \"test_email@gmail.com\"\n",
    "\n",
    "user1 = {\"name\": user_name1, \"password\": user_pwd1, \"email\": user_email1}\n",
    "cd.add_user(user1)\n",
    "print(cd.get_user(user_name1))\n",
    "print(cd.get_all_users())\n",
    "\n",
    "cd.delete_user(user_name1)\n",
    "print(cd.get_all_users())\n",
    "print(cd.get_user(user_name1))\n",
    "\n"
   ]
  }
 ],
 "metadata": {
  "kernelspec": {
   "display_name": "base",
   "language": "python",
   "name": "python3"
  },
  "language_info": {
   "codemirror_mode": {
    "name": "ipython",
    "version": 3
   },
   "file_extension": ".py",
   "mimetype": "text/x-python",
   "name": "python",
   "nbconvert_exporter": "python",
   "pygments_lexer": "ipython3",
   "version": "3.9.13"
  }
 },
 "nbformat": 4,
 "nbformat_minor": 2
}
