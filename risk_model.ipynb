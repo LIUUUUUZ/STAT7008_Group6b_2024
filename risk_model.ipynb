{
 "cells": [
  {
   "cell_type": "markdown",
   "metadata": {},
   "source": [
    "# pip install"
   ]
  },
  {
   "cell_type": "code",
   "execution_count": null,
   "metadata": {},
   "outputs": [],
   "source": [
    "!pip install gdown\n",
    "!pip install scikit-learn\n",
    "!pip install joblib"
   ]
  },
  {
   "cell_type": "markdown",
   "metadata": {},
   "source": [
    "# Import Libraries"
   ]
  },
  {
   "cell_type": "code",
   "execution_count": 1,
   "metadata": {
    "ExecuteTime": {
     "end_time": "2024-11-19T14:19:25.939009Z",
     "start_time": "2024-11-19T14:19:21.645707Z"
    }
   },
   "outputs": [
    {
     "ename": "ModuleNotFoundError",
     "evalue": "No module named 'langchain_openai'",
     "output_type": "error",
     "traceback": [
      "\u001b[0;31m---------------------------------------------------------------------------\u001b[0m",
      "\u001b[0;31mModuleNotFoundError\u001b[0m                       Traceback (most recent call last)",
      "Cell \u001b[0;32mIn[1], line 1\u001b[0m\n\u001b[0;32m----> 1\u001b[0m \u001b[38;5;28;01mfrom\u001b[39;00m \u001b[38;5;21;01mutilities\u001b[39;00m\u001b[38;5;21;01m.\u001b[39;00m\u001b[38;5;21;01mdata_processor\u001b[39;00m \u001b[38;5;28;01mimport\u001b[39;00m DataPreProcessor, DataLoader\n\u001b[1;32m      2\u001b[0m \u001b[38;5;28;01mfrom\u001b[39;00m \u001b[38;5;21;01mutilities\u001b[39;00m\u001b[38;5;21;01m.\u001b[39;00m\u001b[38;5;21;01mXGBoost_model\u001b[39;00m \u001b[38;5;28;01mimport\u001b[39;00m train_and_evaluate_xgboost\n\u001b[1;32m      3\u001b[0m \u001b[38;5;28;01mfrom\u001b[39;00m \u001b[38;5;21;01mutilities\u001b[39;00m\u001b[38;5;21;01m.\u001b[39;00m\u001b[38;5;21;01mXGBoost_Predictor\u001b[39;00m \u001b[38;5;28;01mimport\u001b[39;00m XGBoostPredictor\n",
      "File \u001b[0;32m~/Documents/GitHub/STAT7008_Group6b_2024/utilities/__init__.py:2\u001b[0m\n\u001b[1;32m      1\u001b[0m \u001b[38;5;28;01mfrom\u001b[39;00m \u001b[38;5;21;01m.\u001b[39;00m\u001b[38;5;21;01mdata_processor\u001b[39;00m \u001b[38;5;28;01mimport\u001b[39;00m DataPreProcessor \u001b[38;5;28;01mas\u001b[39;00m DataPreProcessor, DataLoader, maxmin_scaler\n\u001b[0;32m----> 2\u001b[0m \u001b[38;5;28;01mfrom\u001b[39;00m \u001b[38;5;21;01m.\u001b[39;00m\u001b[38;5;21;01mchatbot\u001b[39;00m \u001b[38;5;28;01mimport\u001b[39;00m ChatBot\n",
      "File \u001b[0;32m~/Documents/GitHub/STAT7008_Group6b_2024/utilities/chatbot.py:2\u001b[0m\n\u001b[1;32m      1\u001b[0m \u001b[38;5;28;01mimport\u001b[39;00m \u001b[38;5;21;01mopenai\u001b[39;00m\n\u001b[0;32m----> 2\u001b[0m \u001b[38;5;28;01mfrom\u001b[39;00m \u001b[38;5;21;01mlangchain_openai\u001b[39;00m \u001b[38;5;28;01mimport\u001b[39;00m ChatOpenAI\n\u001b[1;32m      3\u001b[0m \u001b[38;5;28;01mfrom\u001b[39;00m \u001b[38;5;21;01mlangchain\u001b[39;00m\u001b[38;5;21;01m.\u001b[39;00m\u001b[38;5;21;01mschema\u001b[39;00m \u001b[38;5;28;01mimport\u001b[39;00m (\n\u001b[1;32m      4\u001b[0m     AIMessage,\n\u001b[1;32m      5\u001b[0m     HumanMessage,\n\u001b[1;32m      6\u001b[0m     SystemMessage\n\u001b[1;32m      7\u001b[0m )\n\u001b[1;32m      9\u001b[0m \u001b[38;5;28;01mclass\u001b[39;00m \u001b[38;5;21;01mChatBot\u001b[39;00m():\n",
      "\u001b[0;31mModuleNotFoundError\u001b[0m: No module named 'langchain_openai'"
     ]
    }
   ],
   "source": [
    "from utilities.data_processor import DataPreProcessor, DataLoader\n",
    "from utilities.XGBoost_model import train_and_evaluate_xgboost\n",
    "from utilities.XGBoost_Predictor import XGBoostPredictor\n",
    "import os\n",
    "import json"
   ]
  },
  {
   "cell_type": "markdown",
   "metadata": {},
   "source": [
    "# Load Raw Data"
   ]
  },
  {
   "cell_type": "code",
   "execution_count": null,
   "metadata": {},
   "outputs": [],
   "source": [
    "dpp = DataPreProcessor()\n",
    "\n",
    "# Load the data\n",
    "dpp.load_data(download=True)\n",
    "\n",
    "# show the row data info\n",
    "dpp.show_data_info()\n",
    "\n",
    "# preprocess the data\n",
    "dpp.preprocess_data(fill_blank=True, fill_mode='mode')\n",
    " \n",
    "# show the preprocessed data info\n",
    "dpp.show_data_info()\n",
    "\n",
    "# plt the remaining features\n",
    "dpp.show_feature_plt()"
   ]
  },
  {
   "cell_type": "markdown",
   "metadata": {},
   "source": [
    "# DataLoader"
   ]
  },
  {
   "cell_type": "code",
   "execution_count": null,
   "metadata": {},
   "outputs": [],
   "source": [
    "# 初始化DataLoader\n",
    "dl = DataLoader(dpp.get_data(), mode='catboost')\n",
    "\n",
    "# 特征编码\n",
    "dl.encoder()\n",
    "\n",
    "# 划分数据集\n",
    "dl.split_data()\n",
    "\n",
    "# 筛选特征\n",
    "dl.data_filter()\n",
    "\n",
    "x_train_filtered, x_test_filtered, y_train, y_test = dl.get_filtered_data()"
   ]
  },
  {
   "cell_type": "markdown",
   "metadata": {},
   "source": [
    "# Train and Evaluate XGBoost"
   ]
  },
  {
   "cell_type": "code",
   "execution_count": null,
   "metadata": {},
   "outputs": [],
   "source": [
    "# 训练并评估xgboost\n",
    "bst, accuracy = train_and_evaluate_xgboost(x_train_filtered, x_test_filtered, y_train, y_test)\n",
    "\n",
    "# 保存模型和特征中位数\n",
    "model_path = \"model_folder/xgboost_model.json\"\n",
    "stats_path = \"model_folder/feature_medians.json\"\n",
    "os.makedirs(\"model_folder\", exist_ok=True)\n",
    "bst.save_model(model_path)\n",
    "\n",
    "feature_medians = x_train_filtered.median().to_dict()\n",
    "with open(stats_path, \"w\") as f:\n",
    "    json.dump(feature_medians, f)\n",
    "\n",
    "print(\"Model and feature medians saved.\")"
   ]
  },
  {
   "cell_type": "markdown",
   "metadata": {},
   "source": [
    "# Predict"
   ]
  },
  {
   "cell_type": "code",
   "execution_count": null,
   "metadata": {},
   "outputs": [
    {
     "name": "stdout",
     "output_type": "stream",
     "text": [
      "Predicted class: Good credit\n"
     ]
    }
   ],
   "source": [
    "from utilities.XGBoost_Predictor import XGBoostPredictor\n",
    "# 导入预测类\n",
    "predictor = XGBoostPredictor()\n",
    "\n",
    "# 加载模型和特征统计信息\n",
    "predictor.load_model_and_stats(\"models/xgboost_model.json\", \"models/feature_medians.json\")\n",
    "\n",
    "# 用户输入数据，字典形式\n",
    "#{\"out_prncp_inv\": 0.18216371428571426, \"out_prncp\": 0.18217342857142854, \"total_rec_prncp\": 0.09111911682310947, \"last_pymnt_amnt\": 0.012824397809318436, \"tot_cur_bal\": 0.01825904535694721, \"recoveries\": 0.0, \"int_rate\": 0.32403886776510354, \"total_pymnt\": 0.08719915918528463, \"total_rec_int\": 0.049596851095705635, \"funded_amnt_inv\": 0.3704257496028571, \"total_pymnt_inv\": 0.08667971237517338, \"inq_last_6mths\": 0.0, \"sub_grade\": 0.7058823529411764, \"total_rev_hi_lim\": 0.019150633921446936, \"revol_bal\": 0.011354970973119001, \"annual_inc\": 0.0067807914628723875, \"collections_12_mths_ex_med\": 0.0, \"delinq_2yrs\": 0.0, \"dti\": 0.4403600900225056, \"funded_amnt\": 0.3604651162790698, \"pub_rec\": 0.0, \"term\": 0.0, \"acc_now_delinq\": 0.0, \"tot_coll_amt\": 0.0}\n",
    "# input_data = {\n",
    "#     \"out_prncp_inv\": 100,\n",
    "# }\n",
    "input_data = {\n",
    "    \"out_prncp_inv\": 500000, # 由投资者资助的总金额的剩余未偿本金。\n",
    "    \"out_prncp\": 490000, # 已资助总金额的剩余未偿本金。\n",
    "    \"total_rec_prncp\": 0, # 迄今为止收到的本金。\n",
    "    \"last_pymnt_amnt\": 100, # 最近收到的总付款金额。\n",
    "    \"tot_cur_bal\": 10000, # 所有账户的当前总余额。\n",
    "    \"recoveries\": 0, # 贷款转出后的总恢复金额。\n",
    "    \"int_rate\": 0.1, # 贷款利率。\n",
    "    \"total_pymnt\": 100, # 迄今为止的付款总额。\n",
    "    \"total_rec_int\": 0, # 迄今为止收到的利息总额。\n",
    "    \"funded_amnt_inv\": 1000, # 由投资者资助的总金额。\n",
    "    \"total_pymnt_inv\": 100, # 迄今为止的付款总额。\n",
    "    \"inq_last_6mths\": 0, # 过去6个月的查询次数。\n",
    "    \"sub_grade\": 0.1, # 贷款分级。\n",
    "    \"total_rev_hi_lim\": 100, # 高信用额度总额。\n",
    "    \"revol_bal\": 100, # 信贷循环余额。\n",
    "    \"annual_inc\": 100, # 年收入。\n",
    "    \"collections_12_mths_ex_med\": 0, # 除医疗账款外，过去12个月内的催收次数。\n",
    "    \"delinq_2yrs\": 0, # 过去2年的逾期次数。\n",
    "    \"dti\": 0.1, # 债务收入比。\n",
    "    \"funded_amnt\": 1000, # 贷款金额。\n",
    "    \"pub_rec\": 0, # 不良公共记录的数量。\n",
    "    \"term\": 36, # 贷款的付款次数。单位是月，可能是 36 个月或 60 个月。。\n",
    "    \"acc_now_delinq\": 0, # 当前逾期的账户数量。\n",
    "    \"tot_coll_amt\": 0 # 曾经欠下的总催收金额。\n",
    "\n",
    "}\n",
    "\n",
    "# 预测\n",
    "try:\n",
    "    prediction = predictor.predict(input_data)\n",
    "    print(f\"Predicted class: {prediction}\")\n",
    "except ValueError as e:\n",
    "    print(f\"Error: {e}\")"
   ]
  }
 ],
 "metadata": {
  "kernelspec": {
   "display_name": "base",
   "language": "python",
   "name": "python3"
  },
  "language_info": {
   "codemirror_mode": {
    "name": "ipython",
    "version": 3
   },
   "file_extension": ".py",
   "mimetype": "text/x-python",
   "name": "python",
   "nbconvert_exporter": "python",
   "pygments_lexer": "ipython3",
   "version": "3.9.13"
  }
 },
 "nbformat": 4,
 "nbformat_minor": 2
}
