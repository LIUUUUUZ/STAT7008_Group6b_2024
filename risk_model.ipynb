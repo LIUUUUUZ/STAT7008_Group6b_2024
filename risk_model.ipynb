{
 "cells": [
  {
   "cell_type": "markdown",
   "metadata": {},
   "source": [
    "# pip install"
   ]
  },
  {
   "cell_type": "code",
   "metadata": {},
   "source": [
    "!pip install gdown\n",
    "!pip install scikit-learn\n",
    "!pip install joblib"
   ],
   "outputs": [],
   "execution_count": null
  },
  {
   "cell_type": "markdown",
   "metadata": {},
   "source": [
    "# Load Raw Data"
   ]
  },
  {
   "cell_type": "code",
   "metadata": {
    "ExecuteTime": {
     "end_time": "2024-10-31T15:20:06.296949Z",
     "start_time": "2024-10-31T15:19:51.582411Z"
    }
   },
   "source": [
    "from utilities.data_processor import DataPreProcessor\n",
    "\n",
    "dpp = DataPreProcessor()\n",
    "\n",
    "# Load the data\n",
    "dpp.load_data(download=True)\n",
    "\n",
    "# show the row data info\n",
    "dpp.show_data_info()\n",
    "\n",
    "# preprocess the data\n",
    "dpp.preprocess_data(fill_blank=True, fill_mode='mode')\n",
    " \n",
    "# show the preprocessed data info\n",
    "dpp.show_data_info()\n",
    "\n",
    "# plt the remaining features\n",
    "dpp.show_feature_plt()"
   ],
   "outputs": [
    {
     "name": "stderr",
     "output_type": "stream",
     "text": [
      "/Users/zhangzhe/Documents/GitHub/STAT7008_Group6b_2024/utilities/data_processor.py:130: DtypeWarning: Columns (19,55) have mixed types. Specify dtype option on import or set low_memory=False.\n",
      "  self.data: pd.DataFrame = pd.read_csv(self.input_path, index_col=0)\n",
      "/Users/zhangzhe/Documents/GitHub/STAT7008_Group6b_2024/utilities/data_processor.py:208: FutureWarning: A value is trying to be set on a copy of a DataFrame or Series through chained assignment using an inplace method.\n",
      "The behavior will change in pandas 3.0. This inplace method will never work because the intermediate object on which we are setting values always behaves as a copy.\n",
      "\n",
      "For example, when doing 'df[col].method(value, inplace=True)', try using 'df.method({col: value}, inplace=True)' or df[col] = df[col].method(value) instead, to perform the operation inplace on the original object.\n",
      "\n",
      "\n",
      "  self.data[i].fillna(self.data[i].mode()[0], inplace=True)\n"
     ]
    },
    {
     "name": "stdout",
     "output_type": "stream",
     "text": [
      "Data Preprocessing Summary:\n",
      "Rows Deleted: 1126\n",
      "\t511 rows deleted due to del application_type 'JOINT'\n",
      "\t615 rows deleted due to del rows with insignificant missing values\n",
      "Columns Deleted: 37\n",
      "\t4 columns deleted due to del columns related to 'joint', namely: annual_inc_joint, dti_joint, verification_status_joint, application_type\n",
      "\t19 columns deleted due to del columns with more than 20% missing values, namely: desc, mths_since_last_delinq, mths_since_last_record, next_pymnt_d, mths_since_last_major_derog, open_acc_6m, open_il_6m, open_il_12m, open_il_24m, mths_since_rcnt_il, total_bal_il, il_util, open_rv_12m, open_rv_24m, max_bal_bc, all_util, inq_fi, total_cu_tl, inq_last_12m\n",
      "\t1 columns deleted due to del columns 'policy_code'\n",
      "\t13 columns deleted due to del columns after analyzing (analyzing procedures are in the file 'data_analysis.ipynb'), namely: member_id, url, issue_d, earliest_cr_line, grade, last_credit_pull_d, emp_title, title, zip_code, addr_state, last_pymnt_d, pymnt_plan, emp_length\n",
      "Blank values filled with mode, relative columns: ['tot_coll_amt', 'tot_cur_bal', 'total_rev_hi_lim']\n"
     ]
    }
   ],
   "execution_count": 1
  },
  {
   "cell_type": "markdown",
   "metadata": {},
   "source": [
    "# DataLoader"
   ]
  },
  {
   "metadata": {
    "ExecuteTime": {
     "end_time": "2024-10-31T15:20:13.015979Z",
     "start_time": "2024-10-31T15:20:13.010350Z"
    }
   },
   "cell_type": "code",
   "source": "print(dpp.get_data().shape)",
   "outputs": [
    {
     "name": "stdout",
     "output_type": "stream",
     "text": [
      "(886253, 36)\n"
     ]
    }
   ],
   "execution_count": 2
  },
  {
   "cell_type": "code",
   "metadata": {
    "ExecuteTime": {
     "end_time": "2024-10-31T15:20:46.700992Z",
     "start_time": "2024-10-31T15:20:14.059475Z"
    }
   },
   "source": [
    "from utilities import DataLoader, maxmin_scaler\n",
    "from utilities.data_processor import CatBoostDataLoader\n",
    "\n",
    "'''\n",
    "使用catboost进行降维\n",
    "dl = CatBoostDataLoader(dpp.get_data())\n",
    "dl.run_catboost()\n",
    "'''\n",
    "dl = DataLoader(dpp.get_data())\n",
    "\n",
    "dl.split_data(MAXMIN=True)\n",
    "\n",
    "dl.data_filter(mode='pca')\n",
    "\n",
    "x_train_filtered, x_test_filtered, y_train, y_test = dl.get_filtered_data()"
   ],
   "outputs": [
    {
     "name": "stdout",
     "output_type": "stream",
     "text": [
      "Selected features (15): ['out_prncp_inv', 'out_prncp', 'total_rec_prncp', 'last_pymnt_amnt', 'tot_cur_bal', 'recoveries', 'int_rate', 'total_pymnt', 'total_rec_int', 'funded_amnt_inv', 'total_pymnt_inv', 'inq_last_6mths', 'sub_grade', 'total_rev_hi_lim', 'revol_bal']\n"
     ]
    }
   ],
   "execution_count": 3
  },
  {
   "cell_type": "code",
   "metadata": {
    "ExecuteTime": {
     "end_time": "2024-10-31T15:22:17.708446Z",
     "start_time": "2024-10-31T15:22:17.690015Z"
    }
   },
   "source": [
    "print(x_train_filtered.shape, x_test_filtered.shape, y_train.shape, y_test.shape)\n",
    "print(x_train_filtered.isna().sum().sum(), x_test_filtered.isna().sum().sum())"
   ],
   "outputs": [
    {
     "name": "stdout",
     "output_type": "stream",
     "text": [
      "(62038, 15) (26588, 15) (62038,) (26588,)\n",
      "0 0\n"
     ]
    }
   ],
   "execution_count": 4
  },
  {
   "cell_type": "code",
   "metadata": {
    "ExecuteTime": {
     "end_time": "2024-10-31T15:22:41.358068Z",
     "start_time": "2024-10-31T15:22:41.340295Z"
    }
   },
   "source": [
    "x_train_filtered.head(3)"
   ],
   "outputs": [
    {
     "data": {
      "text/plain": [
       "          out_prncp_inv  out_prncp  total_rec_prncp  last_pymnt_amnt  \\\n",
       "id                                                                     \n",
       "68202755       0.657143   0.657143         0.000000         0.000000   \n",
       "59602975       0.407421   0.407421         0.021150         0.009312   \n",
       "45314462       0.906567   0.906567         0.093433         0.025974   \n",
       "\n",
       "          tot_cur_bal  recoveries  int_rate  total_pymnt  total_rec_int  \\\n",
       "id                                                                        \n",
       "68202755     0.076925         0.0  0.109421     0.000000       0.000000   \n",
       "59602975     0.012037         0.0  0.294466     0.023815       0.027251   \n",
       "45314462     0.041738         0.0  0.640896     0.149902       0.235374   \n",
       "\n",
       "          funded_amnt_inv  total_pymnt_inv  inq_last_6mths  sub_grade  \\\n",
       "id                                                                      \n",
       "68202755         0.657143         0.000000        0.035714   0.882353   \n",
       "59602975         0.428571         0.023815        0.035714   0.705882   \n",
       "45314462         1.000000         0.149902        0.035714   0.323529   \n",
       "\n",
       "          total_rev_hi_lim  revol_bal  \n",
       "id                                     \n",
       "68202755          0.072347   0.011155  \n",
       "59602975          0.030056   0.009861  \n",
       "45314462          0.035287   0.015242  "
      ],
      "text/html": [
       "<div>\n",
       "<style scoped>\n",
       "    .dataframe tbody tr th:only-of-type {\n",
       "        vertical-align: middle;\n",
       "    }\n",
       "\n",
       "    .dataframe tbody tr th {\n",
       "        vertical-align: top;\n",
       "    }\n",
       "\n",
       "    .dataframe thead th {\n",
       "        text-align: right;\n",
       "    }\n",
       "</style>\n",
       "<table border=\"1\" class=\"dataframe\">\n",
       "  <thead>\n",
       "    <tr style=\"text-align: right;\">\n",
       "      <th></th>\n",
       "      <th>out_prncp_inv</th>\n",
       "      <th>out_prncp</th>\n",
       "      <th>total_rec_prncp</th>\n",
       "      <th>last_pymnt_amnt</th>\n",
       "      <th>tot_cur_bal</th>\n",
       "      <th>recoveries</th>\n",
       "      <th>int_rate</th>\n",
       "      <th>total_pymnt</th>\n",
       "      <th>total_rec_int</th>\n",
       "      <th>funded_amnt_inv</th>\n",
       "      <th>total_pymnt_inv</th>\n",
       "      <th>inq_last_6mths</th>\n",
       "      <th>sub_grade</th>\n",
       "      <th>total_rev_hi_lim</th>\n",
       "      <th>revol_bal</th>\n",
       "    </tr>\n",
       "    <tr>\n",
       "      <th>id</th>\n",
       "      <th></th>\n",
       "      <th></th>\n",
       "      <th></th>\n",
       "      <th></th>\n",
       "      <th></th>\n",
       "      <th></th>\n",
       "      <th></th>\n",
       "      <th></th>\n",
       "      <th></th>\n",
       "      <th></th>\n",
       "      <th></th>\n",
       "      <th></th>\n",
       "      <th></th>\n",
       "      <th></th>\n",
       "      <th></th>\n",
       "    </tr>\n",
       "  </thead>\n",
       "  <tbody>\n",
       "    <tr>\n",
       "      <th>68202755</th>\n",
       "      <td>0.657143</td>\n",
       "      <td>0.657143</td>\n",
       "      <td>0.000000</td>\n",
       "      <td>0.000000</td>\n",
       "      <td>0.076925</td>\n",
       "      <td>0.0</td>\n",
       "      <td>0.109421</td>\n",
       "      <td>0.000000</td>\n",
       "      <td>0.000000</td>\n",
       "      <td>0.657143</td>\n",
       "      <td>0.000000</td>\n",
       "      <td>0.035714</td>\n",
       "      <td>0.882353</td>\n",
       "      <td>0.072347</td>\n",
       "      <td>0.011155</td>\n",
       "    </tr>\n",
       "    <tr>\n",
       "      <th>59602975</th>\n",
       "      <td>0.407421</td>\n",
       "      <td>0.407421</td>\n",
       "      <td>0.021150</td>\n",
       "      <td>0.009312</td>\n",
       "      <td>0.012037</td>\n",
       "      <td>0.0</td>\n",
       "      <td>0.294466</td>\n",
       "      <td>0.023815</td>\n",
       "      <td>0.027251</td>\n",
       "      <td>0.428571</td>\n",
       "      <td>0.023815</td>\n",
       "      <td>0.035714</td>\n",
       "      <td>0.705882</td>\n",
       "      <td>0.030056</td>\n",
       "      <td>0.009861</td>\n",
       "    </tr>\n",
       "    <tr>\n",
       "      <th>45314462</th>\n",
       "      <td>0.906567</td>\n",
       "      <td>0.906567</td>\n",
       "      <td>0.093433</td>\n",
       "      <td>0.025974</td>\n",
       "      <td>0.041738</td>\n",
       "      <td>0.0</td>\n",
       "      <td>0.640896</td>\n",
       "      <td>0.149902</td>\n",
       "      <td>0.235374</td>\n",
       "      <td>1.000000</td>\n",
       "      <td>0.149902</td>\n",
       "      <td>0.035714</td>\n",
       "      <td>0.323529</td>\n",
       "      <td>0.035287</td>\n",
       "      <td>0.015242</td>\n",
       "    </tr>\n",
       "  </tbody>\n",
       "</table>\n",
       "</div>"
      ]
     },
     "execution_count": 5,
     "metadata": {},
     "output_type": "execute_result"
    }
   ],
   "execution_count": 5
  },
  {
   "metadata": {},
   "cell_type": "code",
   "source": "",
   "outputs": [],
   "execution_count": null
  }
 ],
 "metadata": {
  "kernelspec": {
   "display_name": "pytorch_env",
   "language": "python",
   "name": "python3"
  },
  "language_info": {
   "codemirror_mode": {
    "name": "ipython",
    "version": 3
   },
   "file_extension": ".py",
   "mimetype": "text/x-python",
   "name": "python",
   "nbconvert_exporter": "python",
   "pygments_lexer": "ipython3",
   "version": "3.8.18"
  }
 },
 "nbformat": 4,
 "nbformat_minor": 2
}
