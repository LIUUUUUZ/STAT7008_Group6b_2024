{
 "cells": [
  {
   "cell_type": "markdown",
   "metadata": {},
   "source": [
    "# pip install"
   ]
  },
  {
   "cell_type": "code",
   "metadata": {},
   "source": [
    "!pip install gdown\n",
    "!pip install scikit-learn\n",
    "!pip install joblib"
   ],
   "outputs": [],
   "execution_count": null
  },
  {
   "metadata": {},
   "cell_type": "markdown",
   "source": "# Import Libraries"
  },
  {
   "metadata": {
    "ExecuteTime": {
     "end_time": "2024-11-19T14:19:25.939009Z",
     "start_time": "2024-11-19T14:19:21.645707Z"
    }
   },
   "cell_type": "code",
   "source": [
    "from utilities.data_processor import DataPreProcessor, DataLoader\n",
    "from utilities.XGBoost_model import train_and_evaluate_xgboost\n",
    "from utilities.XGBoost_Predictor import XGBoostPredictor\n",
    "import os\n",
    "import json"
   ],
   "outputs": [
    {
     "ename": "ModuleNotFoundError",
     "evalue": "No module named 'langchain_openai'",
     "output_type": "error",
     "traceback": [
      "\u001B[0;31m---------------------------------------------------------------------------\u001B[0m",
      "\u001B[0;31mModuleNotFoundError\u001B[0m                       Traceback (most recent call last)",
      "Cell \u001B[0;32mIn[1], line 1\u001B[0m\n\u001B[0;32m----> 1\u001B[0m \u001B[38;5;28;01mfrom\u001B[39;00m \u001B[38;5;21;01mutilities\u001B[39;00m\u001B[38;5;21;01m.\u001B[39;00m\u001B[38;5;21;01mdata_processor\u001B[39;00m \u001B[38;5;28;01mimport\u001B[39;00m DataPreProcessor, DataLoader\n\u001B[1;32m      2\u001B[0m \u001B[38;5;28;01mfrom\u001B[39;00m \u001B[38;5;21;01mutilities\u001B[39;00m\u001B[38;5;21;01m.\u001B[39;00m\u001B[38;5;21;01mXGBoost_model\u001B[39;00m \u001B[38;5;28;01mimport\u001B[39;00m train_and_evaluate_xgboost\n\u001B[1;32m      3\u001B[0m \u001B[38;5;28;01mfrom\u001B[39;00m \u001B[38;5;21;01mutilities\u001B[39;00m\u001B[38;5;21;01m.\u001B[39;00m\u001B[38;5;21;01mXGBoost_Predictor\u001B[39;00m \u001B[38;5;28;01mimport\u001B[39;00m XGBoostPredictor\n",
      "File \u001B[0;32m~/Documents/GitHub/STAT7008_Group6b_2024/utilities/__init__.py:2\u001B[0m\n\u001B[1;32m      1\u001B[0m \u001B[38;5;28;01mfrom\u001B[39;00m \u001B[38;5;21;01m.\u001B[39;00m\u001B[38;5;21;01mdata_processor\u001B[39;00m \u001B[38;5;28;01mimport\u001B[39;00m DataPreProcessor \u001B[38;5;28;01mas\u001B[39;00m DataPreProcessor, DataLoader, maxmin_scaler\n\u001B[0;32m----> 2\u001B[0m \u001B[38;5;28;01mfrom\u001B[39;00m \u001B[38;5;21;01m.\u001B[39;00m\u001B[38;5;21;01mchatbot\u001B[39;00m \u001B[38;5;28;01mimport\u001B[39;00m ChatBot\n",
      "File \u001B[0;32m~/Documents/GitHub/STAT7008_Group6b_2024/utilities/chatbot.py:2\u001B[0m\n\u001B[1;32m      1\u001B[0m \u001B[38;5;28;01mimport\u001B[39;00m \u001B[38;5;21;01mopenai\u001B[39;00m\n\u001B[0;32m----> 2\u001B[0m \u001B[38;5;28;01mfrom\u001B[39;00m \u001B[38;5;21;01mlangchain_openai\u001B[39;00m \u001B[38;5;28;01mimport\u001B[39;00m ChatOpenAI\n\u001B[1;32m      3\u001B[0m \u001B[38;5;28;01mfrom\u001B[39;00m \u001B[38;5;21;01mlangchain\u001B[39;00m\u001B[38;5;21;01m.\u001B[39;00m\u001B[38;5;21;01mschema\u001B[39;00m \u001B[38;5;28;01mimport\u001B[39;00m (\n\u001B[1;32m      4\u001B[0m     AIMessage,\n\u001B[1;32m      5\u001B[0m     HumanMessage,\n\u001B[1;32m      6\u001B[0m     SystemMessage\n\u001B[1;32m      7\u001B[0m )\n\u001B[1;32m      9\u001B[0m \u001B[38;5;28;01mclass\u001B[39;00m \u001B[38;5;21;01mChatBot\u001B[39;00m():\n",
      "\u001B[0;31mModuleNotFoundError\u001B[0m: No module named 'langchain_openai'"
     ]
    }
   ],
   "execution_count": 1
  },
  {
   "cell_type": "markdown",
   "metadata": {},
   "source": [
    "# Load Raw Data"
   ]
  },
  {
   "cell_type": "code",
   "metadata": {},
   "source": [
    "dpp = DataPreProcessor()\n",
    "\n",
    "# Load the data\n",
    "dpp.load_data(download=True)\n",
    "\n",
    "# show the row data info\n",
    "dpp.show_data_info()\n",
    "\n",
    "# preprocess the data\n",
    "dpp.preprocess_data(fill_blank=True, fill_mode='mode')\n",
    " \n",
    "# show the preprocessed data info\n",
    "dpp.show_data_info()\n",
    "\n",
    "# plt the remaining features\n",
    "dpp.show_feature_plt()"
   ],
   "outputs": [],
   "execution_count": null
  },
  {
   "cell_type": "markdown",
   "metadata": {},
   "source": "# DataLoader"
  },
  {
   "cell_type": "code",
   "metadata": {},
   "source": [
    "# 初始化DataLoader\n",
    "dl = DataLoader(dpp.get_data(), mode='catboost')\n",
    "\n",
    "# 特征编码\n",
    "dl.encoder()\n",
    "\n",
    "# 划分数据集\n",
    "dl.split_data()\n",
    "\n",
    "# 筛选特征\n",
    "dl.data_filter()\n",
    "\n",
    "x_train_filtered, x_test_filtered, y_train, y_test = dl.get_filtered_data()"
   ],
   "outputs": [],
   "execution_count": null
  },
  {
   "metadata": {},
   "cell_type": "markdown",
   "source": "# Train and Evaluate XGBoost"
  },
  {
   "metadata": {},
   "cell_type": "code",
   "source": [
    "# 训练并评估xgboost\n",
    "bst, accuracy = train_and_evaluate_xgboost(x_train_filtered, x_test_filtered, y_train, y_test)\n",
    "\n",
    "# 保存模型和特征中位数\n",
    "model_path = \"model_folder/xgboost_model.json\"\n",
    "stats_path = \"model_folder/feature_medians.json\"\n",
    "os.makedirs(\"model_folder\", exist_ok=True)\n",
    "bst.save_model(model_path)\n",
    "\n",
    "feature_medians = x_train_filtered.median().to_dict()\n",
    "with open(stats_path, \"w\") as f:\n",
    "    json.dump(feature_medians, f)\n",
    "\n",
    "print(\"Model and feature medians saved.\")"
   ],
   "outputs": [],
   "execution_count": null
  },
  {
   "metadata": {},
   "cell_type": "markdown",
   "source": "# Predict"
  },
  {
   "metadata": {},
   "cell_type": "code",
   "source": [
    "# 导入预测类\n",
    "predictor = XGBoostPredictor()\n",
    "\n",
    "# 加载模型和特征统计信息\n",
    "predictor.load_model_and_stats(\"model_folder/xgboost_model.json\", \"model_folder/feature_medians.json\")\n",
    "\n",
    "# 用户输入数据，字典形式\n",
    "input_data = {\n",
    "    \"out_prncp_inv\": 100,\n",
    "}\n",
    "\n",
    "# 预测\n",
    "try:\n",
    "    prediction = predictor.predict(input_data)\n",
    "    print(f\"Predicted class: {prediction}\")\n",
    "except ValueError as e:\n",
    "    print(f\"Error: {e}\")"
   ],
   "outputs": [],
   "execution_count": null
  }
 ],
 "metadata": {
  "kernelspec": {
   "display_name": "pytorch_env",
   "language": "python",
   "name": "python3"
  },
  "language_info": {
   "codemirror_mode": {
    "name": "ipython",
    "version": 3
   },
   "file_extension": ".py",
   "mimetype": "text/x-python",
   "name": "python",
   "nbconvert_exporter": "python",
   "pygments_lexer": "ipython3",
   "version": "3.8.18"
  }
 },
 "nbformat": 4,
 "nbformat_minor": 2
}
