{
 "cells": [
  {
   "cell_type": "code",
   "execution_count": null,
   "id": "591b04e6-f3f5-402f-bb28-9f449c124c6e",
   "metadata": {},
   "outputs": [
    {
     "name": "stderr",
     "output_type": "stream",
     "text": [
      "<>:42: SyntaxWarning: invalid escape sequence '\\e'\n",
      "<>:45: SyntaxWarning: invalid escape sequence '\\c'\n",
      "<>:42: SyntaxWarning: invalid escape sequence '\\e'\n",
      "<>:45: SyntaxWarning: invalid escape sequence '\\c'\n",
      "/var/folders/z3/f_cs4sys6xd2qx5ft32p4bbw0000gn/T/ipykernel_4069/3600804548.py:42: SyntaxWarning: invalid escape sequence '\\e'\n",
      "  if user_input == '\\end':\n",
      "/var/folders/z3/f_cs4sys6xd2qx5ft32p4bbw0000gn/T/ipykernel_4069/3600804548.py:45: SyntaxWarning: invalid escape sequence '\\c'\n",
      "  if user_input == '\\clear':\n"
     ]
    },
    {
     "name": "stdin",
     "output_type": "stream",
     "text": [
      " hi\n"
     ]
    },
    {
     "name": "stdout",
     "output_type": "stream",
     "text": [
      "[GPT] Round 1\n"
     ]
    },
    {
     "data": {
      "text/markdown": [
       "Hello! How can I assist you today?"
      ],
      "text/plain": [
       "<IPython.core.display.Markdown object>"
      ]
     },
     "metadata": {},
     "output_type": "display_data"
    },
    {
     "name": "stdin",
     "output_type": "stream",
     "text": [
      " 你是什么版本\n"
     ]
    },
    {
     "name": "stdout",
     "output_type": "stream",
     "text": [
      "[GPT] Round 2\n"
     ]
    },
    {
     "data": {
      "text/markdown": [
       "我是基于GPT-4架构的语言模型。如果你有任何问题或需要帮助，随时告诉我！"
      ],
      "text/plain": [
       "<IPython.core.display.Markdown object>"
      ]
     },
     "metadata": {},
     "output_type": "display_data"
    },
    {
     "name": "stdin",
     "output_type": "stream",
     "text": [
      " 你的模型信息更新到哪一天\n"
     ]
    },
    {
     "name": "stdout",
     "output_type": "stream",
     "text": [
      "[GPT] Round 3\n"
     ]
    },
    {
     "data": {
      "text/markdown": [
       "我的知识更新到2023年10月。如果你有任何问题或者需要了解的信息，请随时问我！"
      ],
      "text/plain": [
       "<IPython.core.display.Markdown object>"
      ]
     },
     "metadata": {},
     "output_type": "display_data"
    }
   ],
   "source": [
    "import openai\n",
    "import os\n",
    "from IPython.display import display, Markdown, Latex\n",
    "from langchain.llms import OpenAI\n",
    "from dotenv import load_dotenv\n",
    "\n",
    "from langchain.chat_models import ChatOpenAI\n",
    "from langchain import PromptTemplate, LLMChain\n",
    "from langchain.prompts.chat import (\n",
    "    ChatPromptTemplate,\n",
    "    SystemMessagePromptTemplate,\n",
    "    AIMessagePromptTemplate,\n",
    "    HumanMessagePromptTemplate,\n",
    ")\n",
    "from langchain.schema import (\n",
    "    AIMessage,\n",
    "    HumanMessage,\n",
    "    SystemMessage\n",
    ")\n",
    "\n",
    "openai.api_key  = \"sk-PF3kqg0d33BqhilVyAwyrzy2NjoB0NLFIqZJCusa3mQftDy3\"\n",
    "\n",
    "# system prompt，用于告诉GPT当前的情景，不了解可以放空，没有影响。\n",
    "# system prompt例如：'You are a marketing consultant, please answer the client's questions in profession style.'\n",
    "system_content = ''\n",
    "\n",
    "\n",
    "# 这里使用了langchain包简化与GPT的对话过程\n",
    "messages = [SystemMessage(content = system_content)]\n",
    "\n",
    "\n",
    "# 一轮最多对话20次，防止过长的对话。可以通过while循环条件修改。\n",
    "i = 1\n",
    "while i <= 20:\n",
    "    chat = ChatOpenAI(\n",
    "        openai_api_base=\"https://chatapi.littlewheat.com/v1\",\n",
    "        openai_api_key=openai.api_key)\n",
    "    \n",
    "    user_input = input()\n",
    "    \n",
    "   \t# 输入\\end结束\n",
    "    if user_input == '\\end': \n",
    "        break\n",
    "    # 输入\\clear清空当前对话重来，重置对话场景\n",
    "    if user_input == '\\clear':\n",
    "        i = 1\n",
    "        messages = [SystemMessage(content = system_content)] \n",
    "        continue\n",
    "    \n",
    "    messages.append(HumanMessage(content=user_input))\n",
    "    \n",
    "    response = chat(messages)\n",
    "    messages.append(AIMessage(content = response.content))  # 将GPT回复加入到对话\n",
    "    \n",
    "    print(\"[GPT] Round \"+ str(i))\n",
    "    display(Markdown(response.content))\n",
    "    \n",
    "    i = i + 1\n",
    "\n",
    "print(\"\\n --- END ---\")"
   ]
  },
  {
   "cell_type": "code",
   "execution_count": null,
   "id": "037de839-8be3-492e-9c22-0b39eb9d90f7",
   "metadata": {},
   "outputs": [],
   "source": []
  }
 ],
 "metadata": {
  "kernelspec": {
   "display_name": "/opt/anaconda3/envs/pytorch/bin/python",
   "language": "python",
   "name": "your_env_name"
  },
  "language_info": {
   "codemirror_mode": {
    "name": "ipython",
    "version": 3
   },
   "file_extension": ".py",
   "mimetype": "text/x-python",
   "name": "python",
   "nbconvert_exporter": "python",
   "pygments_lexer": "ipython3",
   "version": "3.12.0"
  }
 },
 "nbformat": 4,
 "nbformat_minor": 5
}
