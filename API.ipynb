{
 "cells": [
  {
   "cell_type": "code",
   "execution_count": null,
   "id": "591b04e6-f3f5-402f-bb28-9f449c124c6e",
   "metadata": {},
   "outputs": [],
   "source": [
    "import openai\n",
    "import os\n",
    "from IPython.display import display, Markdown, Latex\n",
    "from langchain.llms import OpenAI\n",
    "from dotenv import load_dotenv\n",
    "\n",
    "from langchain_openai import ChatOpenAI\n",
    "from langchain import PromptTemplate, LLMChain\n",
    "from langchain.prompts.chat import (\n",
    "    ChatPromptTemplate,\n",
    "    SystemMessagePromptTemplate,\n",
    "    AIMessagePromptTemplate,\n",
    "    HumanMessagePromptTemplate,\n",
    ")\n",
    "from langchain.schema import (\n",
    "    AIMessage,\n",
    "    HumanMessage,\n",
    "    SystemMessage\n",
    ")\n",
    "\n",
    "# 淘宝5毛买的试用版\n",
    "openai.api_key  = \"sk-PF3kqg0d33BqhilVyAwyrzy2NjoB0NLFIqZJCusa3mQftDy3\"\n",
    "\n",
    "# system prompt，用于告诉GPT当前的情景，不了解可以放空，没有影响。\n",
    "# system prompt例如：'You are a marketing consultant, please answer the client's questions in profession style.'\n",
    "system_content = ''\n",
    "\n",
    "\n",
    "# 这里使用了langchain包简化与GPT的对话过程\n",
    "messages = [SystemMessage(content = system_content)]\n",
    "\n",
    "\n",
    "# 一轮最多对话20次，防止过长的对话。可以通过while循环条件修改。\n",
    "i = 1\n",
    "while i <= 20:\n",
    "    chat = ChatOpenAI(\n",
    "        openai_api_base=\"https://chatapi.littlewheat.com/v1\",\n",
    "        openai_api_key=openai.api_key)\n",
    "    \n",
    "    user_input = input()\n",
    "    \n",
    "   \t# 输入\\end结束\n",
    "    if user_input == r'\\end': \n",
    "        break\n",
    "    # 输入\\clear清空当前对话重来，重置对话场景\n",
    "    if user_input == r'\\clear':\n",
    "        i = 1\n",
    "        messages = [SystemMessage(content = system_content)] \n",
    "        continue\n",
    "    \n",
    "    messages.append(HumanMessage(content=user_input))\n",
    "    \n",
    "    response = chat(messages)\n",
    "    messages.append(AIMessage(content = response.content))  # 将GPT回复加入到对话\n",
    "    \n",
    "    print(\"[GPT] Round \"+ str(i))\n",
    "    display(Markdown(response.content))\n",
    "    \n",
    "    i = i + 1\n",
    "\n",
    "print(\"\\n --- END ---\")"
   ]
  },
  {
   "cell_type": "code",
   "execution_count": null,
   "id": "b6cbfb7c-e3e4-406e-a441-35d104d41970",
   "metadata": {},
   "outputs": [],
   "source": [
    "\n"
   ]
  },
  {
   "cell_type": "code",
   "execution_count": null,
   "id": "4721565d-0e0e-425d-b955-cdf6c339422f",
   "metadata": {},
   "outputs": [],
   "source": []
  }
 ],
 "metadata": {
  "kernelspec": {
   "display_name": "Python 3 (ipykernel)",
   "language": "python",
   "name": "python3"
  },
  "language_info": {
   "codemirror_mode": {
    "name": "ipython",
    "version": 3
   },
   "file_extension": ".py",
   "mimetype": "text/x-python",
   "name": "python",
   "nbconvert_exporter": "python",
   "pygments_lexer": "ipython3",
   "version": "3.12.0"
  }
 },
 "nbformat": 4,
 "nbformat_minor": 5
}
