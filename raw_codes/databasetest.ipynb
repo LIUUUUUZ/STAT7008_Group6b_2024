{
 "cells": [
  {
   "cell_type": "code",
   "execution_count": 1,
   "metadata": {},
   "outputs": [
    {
     "name": "stdout",
     "output_type": "stream",
     "text": [
      "You successfully connected to MongoDB!\n"
     ]
    }
   ],
   "source": [
    "from utilities.mongodb import CloudData\n",
    "\n",
    "cd = CloudData()\n",
    "\n"
   ]
  },
  {
   "cell_type": "code",
   "execution_count": 2,
   "metadata": {},
   "outputs": [
    {
     "ename": "AttributeError",
     "evalue": "'CloudData' object has no attribute 'test_get_data'",
     "output_type": "error",
     "traceback": [
      "\u001b[0;31m---------------------------------------------------------------------------\u001b[0m",
      "\u001b[0;31mAttributeError\u001b[0m                            Traceback (most recent call last)",
      "Cell \u001b[0;32mIn[2], line 1\u001b[0m\n\u001b[0;32m----> 1\u001b[0m \u001b[38;5;28mprint\u001b[39m(\u001b[43mcd\u001b[49m\u001b[38;5;241;43m.\u001b[39;49m\u001b[43mtest_get_data\u001b[49m())\n",
      "\u001b[0;31mAttributeError\u001b[0m: 'CloudData' object has no attribute 'test_get_data'"
     ]
    }
   ],
   "source": [
    "print(cd.test_get_data())"
   ]
  },
  {
   "cell_type": "code",
   "execution_count": 7,
   "metadata": {},
   "outputs": [],
   "source": [
    "api_key = \"5f4b4b3b\"\n",
    "settings = {\"api_key\": api_key}\n",
    "cd.update_settings(settings)"
   ]
  },
  {
   "cell_type": "code",
   "execution_count": 8,
   "metadata": {},
   "outputs": [
    {
     "name": "stdout",
     "output_type": "stream",
     "text": [
      "{'api_key': '5f4b4b3b'}\n"
     ]
    }
   ],
   "source": [
    "print(cd.get_settings())"
   ]
  },
  {
   "cell_type": "code",
   "execution_count": null,
   "metadata": {},
   "outputs": [],
   "source": [
    "user_name = \"admin\"\n",
    "user_pwd = \"admin\"\n",
    "user_email = \"admin@test.com\"\n",
    "\n",
    "user = {\"name\": user_name, \"password\": user_pwd, \"email\": user_email}\n",
    "\n",
    "cd.add_user(user)\n",
    "print(cd.get_user(user_name))\n",
    "print(cd.get_all_users())\n",
    "\n",
    "user_name1 = \"test_user1\"\n",
    "user_pwd1 = \"test_user1\"\n",
    "user_email1 = \"test_email@gmail.com\"\n",
    "\n",
    "user1 = {\"name\": user_name1, \"password\": user_pwd1, \"email\": user_email1}\n",
    "cd.add_user(user1)\n",
    "\n",
    "\n"
   ]
  }
 ],
 "metadata": {
  "kernelspec": {
   "display_name": "base",
   "language": "python",
   "name": "python3"
  },
  "language_info": {
   "codemirror_mode": {
    "name": "ipython",
    "version": 3
   },
   "file_extension": ".py",
   "mimetype": "text/x-python",
   "name": "python",
   "nbconvert_exporter": "python",
   "pygments_lexer": "ipython3",
   "version": "3.9.13"
  }
 },
 "nbformat": 4,
 "nbformat_minor": 2
}
